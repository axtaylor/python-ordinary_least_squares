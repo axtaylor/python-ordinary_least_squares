{
 "cells": [
  {
   "cell_type": "code",
   "execution_count": 47,
   "id": "f007e429",
   "metadata": {},
   "outputs": [],
   "source": [
    "import pandas as pd\n",
    "import numpy as np\n",
    "#import ordinary_least_squares as ols\n",
    "from ordinary_least_squares import *\n",
    "import matplotlib.pyplot as plt"
   ]
  },
  {
   "cell_type": "code",
   "execution_count": 30,
   "id": "275688c9",
   "metadata": {},
   "outputs": [],
   "source": [
    "gss = pd.read_csv('../datasets/gss.csv', low_memory=False) \n",
    "gss_2010 = gss.loc[gss[\"yrint\"] == 2010].dropna(subset=['paeduc', 'maeduc', 'age', 'educ'])\n",
    "X, y = gss_2010[['paeduc', 'maeduc', 'age']], gss_2010['educ']"
   ]
  },
  {
   "cell_type": "code",
   "execution_count": 31,
   "id": "531d5c02",
   "metadata": {},
   "outputs": [
    {
     "name": "stdout",
     "output_type": "stream",
     "text": [
      "[[ 1.  8.  3. 31.]\n",
      " [ 1. 18.  6. 23.]\n",
      " [ 1.  2.  0. 82.]\n",
      " ...\n",
      " [ 1. 12. 14. 54.]\n",
      " [ 1.  6. 12. 57.]\n",
      " [ 1. 12. 12. 30.]] [16. 16. 10. ... 12. 16. 14.]\n",
      "\n",
      "===================================\n",
      "OLS Regression Results\n",
      "===================================\n",
      "Dependent:                Education\n",
      "-----------------------------------\n",
      " \n",
      "const                     7.3256***\n",
      "                           (0.3684)\n",
      " \n",
      "paeduc                    0.2144***\n",
      "                           (0.0241)\n",
      " \n",
      "maeduc                    0.2569***\n",
      "                           (0.0271)\n",
      " \n",
      "age                       0.0241***\n",
      "                           (0.0043)\n",
      "\n",
      "-----------------------------------\n",
      "R-squared                     0.276\n",
      "Adjusted R-squared            0.274\n",
      "F Statistic                 177.548\n",
      "Observations               1402.000\n",
      "Log Likelihood            -3359.107\n",
      "AIC                        6726.213\n",
      "BIC                        6747.196\n",
      "===================================\n",
      "*p<0.1; **p<0.05; ***p<0.01\n",
      "\n"
     ]
    }
   ],
   "source": [
    "'''Fitting a model using numpy arrays'''\n",
    "\n",
    "X_numpy = np.hstack([np.ones((np.asarray(X, dtype=float).shape[0], 1)), np.asarray(X, dtype=float)])\n",
    "y_numpy = np.asarray(y, dtype=float)\n",
    "np_model = LinearRegressionOLS().fit(X_numpy, y_numpy, feature_names=['const', 'paeduc','maeduc','age'], target_name=\"Education\")\n",
    "print(X_numpy, y_numpy)\n",
    "print(np_model)"
   ]
  },
  {
   "cell_type": "code",
   "execution_count": 32,
   "id": "2a76dd38",
   "metadata": {},
   "outputs": [
    {
     "name": "stdout",
     "output_type": "stream",
     "text": [
      "\n",
      "===================================\n",
      "OLS Regression Results\n",
      "===================================\n",
      "Dependent:                     educ\n",
      "-----------------------------------\n",
      " \n",
      "const                     7.3256***\n",
      "                           (0.3684)\n",
      " \n",
      "paeduc                    0.2144***\n",
      "                           (0.0241)\n",
      " \n",
      "maeduc                    0.2569***\n",
      "                           (0.0271)\n",
      " \n",
      "age                       0.0241***\n",
      "                           (0.0043)\n",
      "\n",
      "-----------------------------------\n",
      "R-squared                     0.276\n",
      "Adjusted R-squared            0.274\n",
      "F Statistic                 177.548\n",
      "Observations               1402.000\n",
      "Log Likelihood            -3359.107\n",
      "AIC                        6726.213\n",
      "BIC                        6747.196\n",
      "===================================\n",
      "*p<0.1; **p<0.05; ***p<0.01\n",
      "\n"
     ]
    }
   ],
   "source": [
    "'''Fitting a model with pandas dataframe'''\n",
    "\n",
    "X_const = X.copy()\n",
    "X_const.insert(0, 'const', np.ones(len(X)))\n",
    "model = LinearRegressionOLS().fit(X_const, y)\n",
    "print(model)"
   ]
  },
  {
   "cell_type": "code",
   "execution_count": 33,
   "id": "724acdb2",
   "metadata": {},
   "outputs": [
    {
     "name": "stdout",
     "output_type": "stream",
     "text": [
      "\n",
      "==================================================\n",
      "OLS Regression Results\n",
      "==================================================\n",
      "Dependent:                     educ      Education\n",
      "--------------------------------------------------\n",
      " \n",
      "const                     7.3256***      7.3256***\n",
      "                           (0.3684)       (0.3684)\n",
      " \n",
      "paeduc                    0.2144***      0.2144***\n",
      "                           (0.0241)       (0.0241)\n",
      " \n",
      "maeduc                    0.2569***      0.2569***\n",
      "                           (0.0271)       (0.0271)\n",
      " \n",
      "age                       0.0241***      0.0241***\n",
      "                           (0.0043)       (0.0043)\n",
      "\n",
      "--------------------------------------------------\n",
      "R-squared                     0.276          0.276\n",
      "Adjusted R-squared            0.274          0.274\n",
      "F Statistic                 177.548        177.548\n",
      "Observations               1402.000       1402.000\n",
      "Log Likelihood            -3359.107      -3359.107\n",
      "AIC                        6726.213       6726.213\n",
      "BIC                        6747.196       6747.196\n",
      "==================================================\n",
      "*p<0.1; **p<0.05; ***p<0.01\n",
      "\n"
     ]
    }
   ],
   "source": [
    "'''Display stacked regression outputs'''\n",
    "\n",
    "print(summary([model, np_model], 15, 20))"
   ]
  },
  {
   "cell_type": "code",
   "execution_count": 34,
   "id": "c1a770c9",
   "metadata": {},
   "outputs": [
    {
     "data": {
      "text/html": [
       "<div>\n",
       "<style scoped>\n",
       "    .dataframe tbody tr th:only-of-type {\n",
       "        vertical-align: middle;\n",
       "    }\n",
       "\n",
       "    .dataframe tbody tr th {\n",
       "        vertical-align: top;\n",
       "    }\n",
       "\n",
       "    .dataframe thead th {\n",
       "        text-align: right;\n",
       "    }\n",
       "</style>\n",
       "<table border=\"1\" class=\"dataframe\">\n",
       "  <thead>\n",
       "    <tr style=\"text-align: right;\">\n",
       "      <th></th>\n",
       "      <th>feature</th>\n",
       "      <th>coefficient</th>\n",
       "      <th>se</th>\n",
       "      <th>t_statistic</th>\n",
       "      <th>P&gt;|t|</th>\n",
       "      <th>conf_interval__0.05</th>\n",
       "    </tr>\n",
       "  </thead>\n",
       "  <tbody>\n",
       "    <tr>\n",
       "      <th>0</th>\n",
       "      <td>const</td>\n",
       "      <td>7.3256</td>\n",
       "      <td>0.3684</td>\n",
       "      <td>19.8870</td>\n",
       "      <td>0.000</td>\n",
       "      <td>[6.603, 8.048]</td>\n",
       "    </tr>\n",
       "    <tr>\n",
       "      <th>1</th>\n",
       "      <td>paeduc</td>\n",
       "      <td>0.2144</td>\n",
       "      <td>0.0241</td>\n",
       "      <td>8.8796</td>\n",
       "      <td>0.000</td>\n",
       "      <td>[0.167, 0.262]</td>\n",
       "    </tr>\n",
       "    <tr>\n",
       "      <th>2</th>\n",
       "      <td>maeduc</td>\n",
       "      <td>0.2569</td>\n",
       "      <td>0.0271</td>\n",
       "      <td>9.4725</td>\n",
       "      <td>0.000</td>\n",
       "      <td>[0.204, 0.31]</td>\n",
       "    </tr>\n",
       "    <tr>\n",
       "      <th>3</th>\n",
       "      <td>age</td>\n",
       "      <td>0.0241</td>\n",
       "      <td>0.0043</td>\n",
       "      <td>5.5789</td>\n",
       "      <td>0.000</td>\n",
       "      <td>[0.016, 0.033]</td>\n",
       "    </tr>\n",
       "  </tbody>\n",
       "</table>\n",
       "</div>"
      ],
      "text/plain": [
       "  feature  coefficient      se  t_statistic  P>|t| conf_interval__0.05\n",
       "0   const       7.3256  0.3684      19.8870  0.000      [6.603, 8.048]\n",
       "1  paeduc       0.2144  0.0241       8.8796  0.000      [0.167, 0.262]\n",
       "2  maeduc       0.2569  0.0271       9.4725  0.000       [0.204, 0.31]\n",
       "3     age       0.0241  0.0043       5.5789  0.000      [0.016, 0.033]"
      ]
     },
     "execution_count": 34,
     "metadata": {},
     "output_type": "execute_result"
    }
   ],
   "source": [
    "'''Tabular coefficient information'''\n",
    "\n",
    "pd.DataFrame(model.coefficient_table())"
   ]
  },
  {
   "cell_type": "code",
   "execution_count": 35,
   "id": "f83487e6",
   "metadata": {},
   "outputs": [
    {
     "data": {
      "text/html": [
       "<div>\n",
       "<style scoped>\n",
       "    .dataframe tbody tr th:only-of-type {\n",
       "        vertical-align: middle;\n",
       "    }\n",
       "\n",
       "    .dataframe tbody tr th {\n",
       "        vertical-align: top;\n",
       "    }\n",
       "\n",
       "    .dataframe thead th {\n",
       "        text-align: right;\n",
       "    }\n",
       "</style>\n",
       "<table border=\"1\" class=\"dataframe\">\n",
       "  <thead>\n",
       "    <tr style=\"text-align: right;\">\n",
       "      <th></th>\n",
       "      <th>feature</th>\n",
       "      <th>VIF</th>\n",
       "    </tr>\n",
       "  </thead>\n",
       "  <tbody>\n",
       "    <tr>\n",
       "      <th>0</th>\n",
       "      <td>paeduc</td>\n",
       "      <td>2.0233</td>\n",
       "    </tr>\n",
       "    <tr>\n",
       "      <th>1</th>\n",
       "      <td>maeduc</td>\n",
       "      <td>2.0285</td>\n",
       "    </tr>\n",
       "    <tr>\n",
       "      <th>2</th>\n",
       "      <td>age</td>\n",
       "      <td>1.0971</td>\n",
       "    </tr>\n",
       "  </tbody>\n",
       "</table>\n",
       "</div>"
      ],
      "text/plain": [
       "  feature     VIF\n",
       "0  paeduc  2.0233\n",
       "1  maeduc  2.0285\n",
       "2     age  1.0971"
      ]
     },
     "execution_count": 35,
     "metadata": {},
     "output_type": "execute_result"
    }
   ],
   "source": [
    "'''Tabular variance inflation factor readings'''\n",
    "\n",
    "pd.DataFrame(model.variance_inflation_factor())"
   ]
  },
  {
   "cell_type": "code",
   "execution_count": 36,
   "id": "6063852d",
   "metadata": {},
   "outputs": [
    {
     "data": {
      "text/html": [
       "<div>\n",
       "<style scoped>\n",
       "    .dataframe tbody tr th:only-of-type {\n",
       "        vertical-align: middle;\n",
       "    }\n",
       "\n",
       "    .dataframe tbody tr th {\n",
       "        vertical-align: top;\n",
       "    }\n",
       "\n",
       "    .dataframe thead th {\n",
       "        text-align: right;\n",
       "    }\n",
       "</style>\n",
       "<table border=\"1\" class=\"dataframe\">\n",
       "  <thead>\n",
       "    <tr style=\"text-align: right;\">\n",
       "      <th></th>\n",
       "      <th>feature</th>\n",
       "      <th>robust_se</th>\n",
       "      <th>robust_t</th>\n",
       "      <th>robust_p</th>\n",
       "    </tr>\n",
       "  </thead>\n",
       "  <tbody>\n",
       "    <tr>\n",
       "      <th>0</th>\n",
       "      <td>const</td>\n",
       "      <td>0.434460</td>\n",
       "      <td>16.861504</td>\n",
       "      <td>0.000000e+00</td>\n",
       "    </tr>\n",
       "    <tr>\n",
       "      <th>1</th>\n",
       "      <td>paeduc</td>\n",
       "      <td>0.023602</td>\n",
       "      <td>9.084741</td>\n",
       "      <td>0.000000e+00</td>\n",
       "    </tr>\n",
       "    <tr>\n",
       "      <th>2</th>\n",
       "      <td>maeduc</td>\n",
       "      <td>0.029439</td>\n",
       "      <td>8.727734</td>\n",
       "      <td>0.000000e+00</td>\n",
       "    </tr>\n",
       "    <tr>\n",
       "      <th>3</th>\n",
       "      <td>age</td>\n",
       "      <td>0.004221</td>\n",
       "      <td>5.715290</td>\n",
       "      <td>1.336690e-08</td>\n",
       "    </tr>\n",
       "  </tbody>\n",
       "</table>\n",
       "</div>"
      ],
      "text/plain": [
       "  feature  robust_se   robust_t      robust_p\n",
       "0   const   0.434460  16.861504  0.000000e+00\n",
       "1  paeduc   0.023602   9.084741  0.000000e+00\n",
       "2  maeduc   0.029439   8.727734  0.000000e+00\n",
       "3     age   0.004221   5.715290  1.336690e-08"
      ]
     },
     "execution_count": 36,
     "metadata": {},
     "output_type": "execute_result"
    }
   ],
   "source": [
    "'''Tabular robust standard errors'''\n",
    "\n",
    "pd.DataFrame(model.robust_se(type=\"HC3\"))"
   ]
  },
  {
   "cell_type": "code",
   "execution_count": 37,
   "id": "1141879e",
   "metadata": {},
   "outputs": [
    {
     "data": {
      "text/plain": [
       "array([7.32564767])"
      ]
     },
     "execution_count": 37,
     "metadata": {},
     "output_type": "execute_result"
    }
   ],
   "source": [
    "'''Array prediction'''\n",
    "\n",
    "model.predict(np.array([[0, 0, 0], ]))"
   ]
  },
  {
   "cell_type": "code",
   "execution_count": 38,
   "id": "7e3516a8",
   "metadata": {},
   "outputs": [
    {
     "data": {
      "text/html": [
       "<div>\n",
       "<style scoped>\n",
       "    .dataframe tbody tr th:only-of-type {\n",
       "        vertical-align: middle;\n",
       "    }\n",
       "\n",
       "    .dataframe tbody tr th {\n",
       "        vertical-align: top;\n",
       "    }\n",
       "\n",
       "    .dataframe thead th {\n",
       "        text-align: right;\n",
       "    }\n",
       "</style>\n",
       "<table border=\"1\" class=\"dataframe\">\n",
       "  <thead>\n",
       "    <tr style=\"text-align: right;\">\n",
       "      <th></th>\n",
       "      <th>features</th>\n",
       "      <th>prediction</th>\n",
       "      <th>std_error</th>\n",
       "      <th>t_statistic</th>\n",
       "      <th>P&gt;|t|</th>\n",
       "      <th>ci_low_0.05</th>\n",
       "      <th>ci_high_0.05</th>\n",
       "    </tr>\n",
       "  </thead>\n",
       "  <tbody>\n",
       "    <tr>\n",
       "      <th>0</th>\n",
       "      <td>{'paeduc': '0.00', 'maeduc': '0.00', 'age': '0...</td>\n",
       "      <td>7.3256</td>\n",
       "      <td>0.3684</td>\n",
       "      <td>19.8870</td>\n",
       "      <td>0.0</td>\n",
       "      <td>6.6030</td>\n",
       "      <td>8.0483</td>\n",
       "    </tr>\n",
       "    <tr>\n",
       "      <th>1</th>\n",
       "      <td>{'paeduc': '11.62', 'maeduc': '11.66', 'age': ...</td>\n",
       "      <td>13.9772</td>\n",
       "      <td>0.0710</td>\n",
       "      <td>196.7284</td>\n",
       "      <td>0.0</td>\n",
       "      <td>13.8378</td>\n",
       "      <td>14.1165</td>\n",
       "    </tr>\n",
       "    <tr>\n",
       "      <th>2</th>\n",
       "      <td>{'paeduc': '11.62', 'maeduc': '14.00', 'age': ...</td>\n",
       "      <td>14.5786</td>\n",
       "      <td>0.0953</td>\n",
       "      <td>152.9974</td>\n",
       "      <td>0.0</td>\n",
       "      <td>14.3917</td>\n",
       "      <td>14.7656</td>\n",
       "    </tr>\n",
       "    <tr>\n",
       "      <th>3</th>\n",
       "      <td>{'paeduc': '11.62', 'maeduc': '11.66', 'age': ...</td>\n",
       "      <td>13.9772</td>\n",
       "      <td>0.0710</td>\n",
       "      <td>196.7284</td>\n",
       "      <td>0.0</td>\n",
       "      <td>13.8378</td>\n",
       "      <td>14.1165</td>\n",
       "    </tr>\n",
       "    <tr>\n",
       "      <th>4</th>\n",
       "      <td>{'paeduc': '8.00', 'maeduc': '14.00', 'age': '...</td>\n",
       "      <td>13.8014</td>\n",
       "      <td>0.1560</td>\n",
       "      <td>88.4816</td>\n",
       "      <td>0.0</td>\n",
       "      <td>13.4954</td>\n",
       "      <td>14.1074</td>\n",
       "    </tr>\n",
       "  </tbody>\n",
       "</table>\n",
       "</div>"
      ],
      "text/plain": [
       "                                            features  prediction  std_error  \\\n",
       "0  {'paeduc': '0.00', 'maeduc': '0.00', 'age': '0...      7.3256     0.3684   \n",
       "1  {'paeduc': '11.62', 'maeduc': '11.66', 'age': ...     13.9772     0.0710   \n",
       "2  {'paeduc': '11.62', 'maeduc': '14.00', 'age': ...     14.5786     0.0953   \n",
       "3  {'paeduc': '11.62', 'maeduc': '11.66', 'age': ...     13.9772     0.0710   \n",
       "4  {'paeduc': '8.00', 'maeduc': '14.00', 'age': '...     13.8014     0.1560   \n",
       "\n",
       "   t_statistic  P>|t|  ci_low_0.05  ci_high_0.05  \n",
       "0      19.8870    0.0       6.6030        8.0483  \n",
       "1     196.7284    0.0      13.8378       14.1165  \n",
       "2     152.9974    0.0      14.3917       14.7656  \n",
       "3     196.7284    0.0      13.8378       14.1165  \n",
       "4      88.4816    0.0      13.4954       14.1074  "
      ]
     },
     "execution_count": 38,
     "metadata": {},
     "output_type": "execute_result"
    }
   ],
   "source": [
    "'''Tabular predictions'''\n",
    "\n",
    "prediction_set = [\n",
    "    np.array([[0, 0, 0], ]),\n",
    "    np.array([[X['paeduc'].mean(), X['maeduc'].mean(), X['age'].mean(),], ]),\n",
    "    np.array([[X['paeduc'].mean(), 14,  X['age'].mean()], ]),\n",
    "    np.array([[11.624822, 11.659058, 48.225392], ]),\n",
    "    np.array([[8, 14,  X['age'].mean()], ]),\n",
    "] \n",
    "predictions = pd.concat([pd.DataFrame(model.predict(test_set, return_table=True)) for test_set in prediction_set], ignore_index=True)\n",
    "predictions"
   ]
  },
  {
   "cell_type": "code",
   "execution_count": 44,
   "id": "9a26eb44",
   "metadata": {},
   "outputs": [
    {
     "data": {
      "text/plain": [
       "Index(['paeduc', 'maeduc', 'age'], dtype='object')"
      ]
     },
     "execution_count": 44,
     "metadata": {},
     "output_type": "execute_result"
    }
   ],
   "source": [
    "model.feature_names[1:]"
   ]
  },
  {
   "cell_type": "code",
   "execution_count": 39,
   "id": "bcde3f57",
   "metadata": {},
   "outputs": [
    {
     "data": {
      "text/html": [
       "<div>\n",
       "<style scoped>\n",
       "    .dataframe tbody tr th:only-of-type {\n",
       "        vertical-align: middle;\n",
       "    }\n",
       "\n",
       "    .dataframe tbody tr th {\n",
       "        vertical-align: top;\n",
       "    }\n",
       "\n",
       "    .dataframe thead th {\n",
       "        text-align: right;\n",
       "    }\n",
       "</style>\n",
       "<table border=\"1\" class=\"dataframe\">\n",
       "  <thead>\n",
       "    <tr style=\"text-align: right;\">\n",
       "      <th></th>\n",
       "      <th>features</th>\n",
       "      <th>prediction</th>\n",
       "      <th>std_error</th>\n",
       "      <th>t_statistic</th>\n",
       "      <th>P&gt;|t|</th>\n",
       "      <th>ci_low_0.05</th>\n",
       "      <th>ci_high_0.05</th>\n",
       "    </tr>\n",
       "  </thead>\n",
       "  <tbody>\n",
       "    <tr>\n",
       "      <th>0</th>\n",
       "      <td>{'paeduc': '0.00', 'maeduc': '11.66', 'age': '...</td>\n",
       "      <td>11.4846</td>\n",
       "      <td>0.2896</td>\n",
       "      <td>39.6620</td>\n",
       "      <td>0.0</td>\n",
       "      <td>10.9166</td>\n",
       "      <td>12.0526</td>\n",
       "    </tr>\n",
       "    <tr>\n",
       "      <th>1</th>\n",
       "      <td>{'paeduc': '1.00', 'maeduc': '11.66', 'age': '...</td>\n",
       "      <td>11.6990</td>\n",
       "      <td>0.2662</td>\n",
       "      <td>43.9452</td>\n",
       "      <td>0.0</td>\n",
       "      <td>11.1768</td>\n",
       "      <td>12.2212</td>\n",
       "    </tr>\n",
       "    <tr>\n",
       "      <th>2</th>\n",
       "      <td>{'paeduc': '2.00', 'maeduc': '11.66', 'age': '...</td>\n",
       "      <td>11.9134</td>\n",
       "      <td>0.2430</td>\n",
       "      <td>49.0201</td>\n",
       "      <td>0.0</td>\n",
       "      <td>11.4367</td>\n",
       "      <td>12.3902</td>\n",
       "    </tr>\n",
       "    <tr>\n",
       "      <th>3</th>\n",
       "      <td>{'paeduc': '3.00', 'maeduc': '11.66', 'age': '...</td>\n",
       "      <td>12.1278</td>\n",
       "      <td>0.2201</td>\n",
       "      <td>55.1134</td>\n",
       "      <td>0.0</td>\n",
       "      <td>11.6962</td>\n",
       "      <td>12.5595</td>\n",
       "    </tr>\n",
       "    <tr>\n",
       "      <th>4</th>\n",
       "      <td>{'paeduc': '4.00', 'maeduc': '11.66', 'age': '...</td>\n",
       "      <td>12.3423</td>\n",
       "      <td>0.1974</td>\n",
       "      <td>62.5393</td>\n",
       "      <td>0.0</td>\n",
       "      <td>11.9551</td>\n",
       "      <td>12.7294</td>\n",
       "    </tr>\n",
       "    <tr>\n",
       "      <th>5</th>\n",
       "      <td>{'paeduc': '5.00', 'maeduc': '11.66', 'age': '...</td>\n",
       "      <td>12.5567</td>\n",
       "      <td>0.1750</td>\n",
       "      <td>71.7361</td>\n",
       "      <td>0.0</td>\n",
       "      <td>12.2133</td>\n",
       "      <td>12.9001</td>\n",
       "    </tr>\n",
       "    <tr>\n",
       "      <th>6</th>\n",
       "      <td>{'paeduc': '6.00', 'maeduc': '11.66', 'age': '...</td>\n",
       "      <td>12.7711</td>\n",
       "      <td>0.1533</td>\n",
       "      <td>83.3162</td>\n",
       "      <td>0.0</td>\n",
       "      <td>12.4704</td>\n",
       "      <td>13.0718</td>\n",
       "    </tr>\n",
       "    <tr>\n",
       "      <th>7</th>\n",
       "      <td>{'paeduc': '7.00', 'maeduc': '11.66', 'age': '...</td>\n",
       "      <td>12.9855</td>\n",
       "      <td>0.1324</td>\n",
       "      <td>98.1061</td>\n",
       "      <td>0.0</td>\n",
       "      <td>12.7259</td>\n",
       "      <td>13.2452</td>\n",
       "    </tr>\n",
       "    <tr>\n",
       "      <th>8</th>\n",
       "      <td>{'paeduc': '8.00', 'maeduc': '11.66', 'age': '...</td>\n",
       "      <td>13.1999</td>\n",
       "      <td>0.1127</td>\n",
       "      <td>117.0875</td>\n",
       "      <td>0.0</td>\n",
       "      <td>12.9788</td>\n",
       "      <td>13.4211</td>\n",
       "    </tr>\n",
       "    <tr>\n",
       "      <th>9</th>\n",
       "      <td>{'paeduc': '9.00', 'maeduc': '11.66', 'age': '...</td>\n",
       "      <td>13.4144</td>\n",
       "      <td>0.0952</td>\n",
       "      <td>140.8904</td>\n",
       "      <td>0.0</td>\n",
       "      <td>13.2276</td>\n",
       "      <td>13.6011</td>\n",
       "    </tr>\n",
       "    <tr>\n",
       "      <th>10</th>\n",
       "      <td>{'paeduc': '10.00', 'maeduc': '11.66', 'age': ...</td>\n",
       "      <td>13.6288</td>\n",
       "      <td>0.0812</td>\n",
       "      <td>167.9212</td>\n",
       "      <td>0.0</td>\n",
       "      <td>13.4696</td>\n",
       "      <td>13.7880</td>\n",
       "    </tr>\n",
       "    <tr>\n",
       "      <th>11</th>\n",
       "      <td>{'paeduc': '11.00', 'maeduc': '11.66', 'age': ...</td>\n",
       "      <td>13.8432</td>\n",
       "      <td>0.0726</td>\n",
       "      <td>190.5925</td>\n",
       "      <td>0.0</td>\n",
       "      <td>13.7007</td>\n",
       "      <td>13.9857</td>\n",
       "    </tr>\n",
       "    <tr>\n",
       "      <th>12</th>\n",
       "      <td>{'paeduc': '12.00', 'maeduc': '11.66', 'age': ...</td>\n",
       "      <td>14.0576</td>\n",
       "      <td>0.0716</td>\n",
       "      <td>196.2714</td>\n",
       "      <td>0.0</td>\n",
       "      <td>13.9171</td>\n",
       "      <td>14.1981</td>\n",
       "    </tr>\n",
       "    <tr>\n",
       "      <th>13</th>\n",
       "      <td>{'paeduc': '13.00', 'maeduc': '11.66', 'age': ...</td>\n",
       "      <td>14.2720</td>\n",
       "      <td>0.0784</td>\n",
       "      <td>181.9825</td>\n",
       "      <td>0.0</td>\n",
       "      <td>14.1182</td>\n",
       "      <td>14.4259</td>\n",
       "    </tr>\n",
       "    <tr>\n",
       "      <th>14</th>\n",
       "      <td>{'paeduc': '14.00', 'maeduc': '11.66', 'age': ...</td>\n",
       "      <td>14.4865</td>\n",
       "      <td>0.0913</td>\n",
       "      <td>158.6529</td>\n",
       "      <td>0.0</td>\n",
       "      <td>14.3073</td>\n",
       "      <td>14.6656</td>\n",
       "    </tr>\n",
       "    <tr>\n",
       "      <th>15</th>\n",
       "      <td>{'paeduc': '15.00', 'maeduc': '11.66', 'age': ...</td>\n",
       "      <td>14.7009</td>\n",
       "      <td>0.1081</td>\n",
       "      <td>135.9656</td>\n",
       "      <td>0.0</td>\n",
       "      <td>14.4888</td>\n",
       "      <td>14.9130</td>\n",
       "    </tr>\n",
       "    <tr>\n",
       "      <th>16</th>\n",
       "      <td>{'paeduc': '16.00', 'maeduc': '11.66', 'age': ...</td>\n",
       "      <td>14.9153</td>\n",
       "      <td>0.1273</td>\n",
       "      <td>117.1510</td>\n",
       "      <td>0.0</td>\n",
       "      <td>14.6655</td>\n",
       "      <td>15.1651</td>\n",
       "    </tr>\n",
       "    <tr>\n",
       "      <th>17</th>\n",
       "      <td>{'paeduc': '17.00', 'maeduc': '11.66', 'age': ...</td>\n",
       "      <td>15.1297</td>\n",
       "      <td>0.1480</td>\n",
       "      <td>102.2488</td>\n",
       "      <td>0.0</td>\n",
       "      <td>14.8395</td>\n",
       "      <td>15.4200</td>\n",
       "    </tr>\n",
       "    <tr>\n",
       "      <th>18</th>\n",
       "      <td>{'paeduc': '18.00', 'maeduc': '11.66', 'age': ...</td>\n",
       "      <td>15.3441</td>\n",
       "      <td>0.1695</td>\n",
       "      <td>90.5001</td>\n",
       "      <td>0.0</td>\n",
       "      <td>15.0115</td>\n",
       "      <td>15.6767</td>\n",
       "    </tr>\n",
       "    <tr>\n",
       "      <th>19</th>\n",
       "      <td>{'paeduc': '19.00', 'maeduc': '11.66', 'age': ...</td>\n",
       "      <td>15.5586</td>\n",
       "      <td>0.1917</td>\n",
       "      <td>81.1438</td>\n",
       "      <td>0.0</td>\n",
       "      <td>15.1824</td>\n",
       "      <td>15.9347</td>\n",
       "    </tr>\n",
       "    <tr>\n",
       "      <th>20</th>\n",
       "      <td>{'paeduc': '20.00', 'maeduc': '11.66', 'age': ...</td>\n",
       "      <td>15.7730</td>\n",
       "      <td>0.2144</td>\n",
       "      <td>73.5832</td>\n",
       "      <td>0.0</td>\n",
       "      <td>15.3525</td>\n",
       "      <td>16.1935</td>\n",
       "    </tr>\n",
       "  </tbody>\n",
       "</table>\n",
       "</div>"
      ],
      "text/plain": [
       "                                             features  prediction  std_error  \\\n",
       "0   {'paeduc': '0.00', 'maeduc': '11.66', 'age': '...     11.4846     0.2896   \n",
       "1   {'paeduc': '1.00', 'maeduc': '11.66', 'age': '...     11.6990     0.2662   \n",
       "2   {'paeduc': '2.00', 'maeduc': '11.66', 'age': '...     11.9134     0.2430   \n",
       "3   {'paeduc': '3.00', 'maeduc': '11.66', 'age': '...     12.1278     0.2201   \n",
       "4   {'paeduc': '4.00', 'maeduc': '11.66', 'age': '...     12.3423     0.1974   \n",
       "5   {'paeduc': '5.00', 'maeduc': '11.66', 'age': '...     12.5567     0.1750   \n",
       "6   {'paeduc': '6.00', 'maeduc': '11.66', 'age': '...     12.7711     0.1533   \n",
       "7   {'paeduc': '7.00', 'maeduc': '11.66', 'age': '...     12.9855     0.1324   \n",
       "8   {'paeduc': '8.00', 'maeduc': '11.66', 'age': '...     13.1999     0.1127   \n",
       "9   {'paeduc': '9.00', 'maeduc': '11.66', 'age': '...     13.4144     0.0952   \n",
       "10  {'paeduc': '10.00', 'maeduc': '11.66', 'age': ...     13.6288     0.0812   \n",
       "11  {'paeduc': '11.00', 'maeduc': '11.66', 'age': ...     13.8432     0.0726   \n",
       "12  {'paeduc': '12.00', 'maeduc': '11.66', 'age': ...     14.0576     0.0716   \n",
       "13  {'paeduc': '13.00', 'maeduc': '11.66', 'age': ...     14.2720     0.0784   \n",
       "14  {'paeduc': '14.00', 'maeduc': '11.66', 'age': ...     14.4865     0.0913   \n",
       "15  {'paeduc': '15.00', 'maeduc': '11.66', 'age': ...     14.7009     0.1081   \n",
       "16  {'paeduc': '16.00', 'maeduc': '11.66', 'age': ...     14.9153     0.1273   \n",
       "17  {'paeduc': '17.00', 'maeduc': '11.66', 'age': ...     15.1297     0.1480   \n",
       "18  {'paeduc': '18.00', 'maeduc': '11.66', 'age': ...     15.3441     0.1695   \n",
       "19  {'paeduc': '19.00', 'maeduc': '11.66', 'age': ...     15.5586     0.1917   \n",
       "20  {'paeduc': '20.00', 'maeduc': '11.66', 'age': ...     15.7730     0.2144   \n",
       "\n",
       "    t_statistic  P>|t|  ci_low_0.05  ci_high_0.05  \n",
       "0       39.6620    0.0      10.9166       12.0526  \n",
       "1       43.9452    0.0      11.1768       12.2212  \n",
       "2       49.0201    0.0      11.4367       12.3902  \n",
       "3       55.1134    0.0      11.6962       12.5595  \n",
       "4       62.5393    0.0      11.9551       12.7294  \n",
       "5       71.7361    0.0      12.2133       12.9001  \n",
       "6       83.3162    0.0      12.4704       13.0718  \n",
       "7       98.1061    0.0      12.7259       13.2452  \n",
       "8      117.0875    0.0      12.9788       13.4211  \n",
       "9      140.8904    0.0      13.2276       13.6011  \n",
       "10     167.9212    0.0      13.4696       13.7880  \n",
       "11     190.5925    0.0      13.7007       13.9857  \n",
       "12     196.2714    0.0      13.9171       14.1981  \n",
       "13     181.9825    0.0      14.1182       14.4259  \n",
       "14     158.6529    0.0      14.3073       14.6656  \n",
       "15     135.9656    0.0      14.4888       14.9130  \n",
       "16     117.1510    0.0      14.6655       15.1651  \n",
       "17     102.2488    0.0      14.8395       15.4200  \n",
       "18      90.5001    0.0      15.0115       15.6767  \n",
       "19      81.1438    0.0      15.1824       15.9347  \n",
       "20      73.5832    0.0      15.3525       16.1935  "
      ]
     },
     "execution_count": 39,
     "metadata": {},
     "output_type": "execute_result"
    }
   ],
   "source": [
    "'''Incremental predictions holding other values at sample mean'''\n",
    "\n",
    "prediction_set = [\n",
    "    (np.array([[i, X['maeduc'].mean(), X['age'].mean()],]))\n",
    "    for i in range(int(X['paeduc'].min()), int(X['paeduc'].max())+1)\n",
    "    ] \n",
    "predictions = pd.concat([pd.DataFrame(model.predict(i, return_table=True)) for i in prediction_set], ignore_index=True)\n",
    "predictions"
   ]
  },
  {
   "cell_type": "code",
   "execution_count": 53,
   "id": "5601eb96",
   "metadata": {},
   "outputs": [
    {
     "data": {
      "image/png": "[encoded data removed]",
      "text/plain": [
       "<Figure size 640x480 with 1 Axes>"
      ]
     },
     "metadata": {},
     "output_type": "display_data"
    }
   ],
   "source": [
    "plt.plot(list(range(0, len(predictions['prediction']))), predictions['prediction'], color=\"red\", label=\" \")\n",
    "plt.fill_between(list(range(0, len(predictions['prediction']))), predictions['ci_low_0.05'], predictions['ci_high_0.05'], color=\"red\", alpha=0.3)\n",
    "plt.show()"
   ]
  },
  {
   "cell_type": "code",
   "execution_count": 40,
   "id": "2bfdffdb",
   "metadata": {},
   "outputs": [],
   "source": [
    "dydx = [predictions['prediction'][i+1] - predictions['prediction'][i] for i in list(range(0, len(predictions['prediction'])-1))]\n",
    "dydx = dydx.copy()\n",
    "dydx.insert(0, 0)\n",
    "\n",
    "ci_low_dydx, ci_high_dydx = predictions['ci_low_0.05'], predictions['ci_high_0.05']\n",
    "dydx_low_ci = [ci_low_dydx[i+1] - ci_low_dydx[i] for i in list(range(0, len(predictions['prediction'])-1))]\n",
    "dydx_high_ci = [ci_high_dydx[i+1] - ci_high_dydx[i] for i in list(range(0, len(predictions['prediction'])-1))]\n",
    "\n",
    "dydx_low_ci.insert(0, 0)\n",
    "dydx_high_ci.insert(0, 0)\n",
    "\n",
    "derivative_predictions = predictions[['std_error', 't_statistic', 'P>|t|']].copy()\n",
    "derivative_predictions['derivative'] = dydx\n",
    "derivative_predictions['ci_low_dydx'] = dydx_low_ci\n",
    "derivative_predictions['ci_high_dydx'] = dydx_high_ci"
   ]
  },
  {
   "cell_type": "code",
   "execution_count": 41,
   "id": "e8c38e27",
   "metadata": {},
   "outputs": [
    {
     "data": {
      "text/html": [
       "<div>\n",
       "<style scoped>\n",
       "    .dataframe tbody tr th:only-of-type {\n",
       "        vertical-align: middle;\n",
       "    }\n",
       "\n",
       "    .dataframe tbody tr th {\n",
       "        vertical-align: top;\n",
       "    }\n",
       "\n",
       "    .dataframe thead th {\n",
       "        text-align: right;\n",
       "    }\n",
       "</style>\n",
       "<table border=\"1\" class=\"dataframe\">\n",
       "  <thead>\n",
       "    <tr style=\"text-align: right;\">\n",
       "      <th></th>\n",
       "      <th>std_error</th>\n",
       "      <th>t_statistic</th>\n",
       "      <th>P&gt;|t|</th>\n",
       "      <th>derivative</th>\n",
       "      <th>ci_low_dydx</th>\n",
       "      <th>ci_high_dydx</th>\n",
       "    </tr>\n",
       "  </thead>\n",
       "  <tbody>\n",
       "    <tr>\n",
       "      <th>0</th>\n",
       "      <td>0.2896</td>\n",
       "      <td>39.6620</td>\n",
       "      <td>0.0</td>\n",
       "      <td>0.0000</td>\n",
       "      <td>0.0000</td>\n",
       "      <td>0.0000</td>\n",
       "    </tr>\n",
       "    <tr>\n",
       "      <th>1</th>\n",
       "      <td>0.2662</td>\n",
       "      <td>43.9452</td>\n",
       "      <td>0.0</td>\n",
       "      <td>0.2144</td>\n",
       "      <td>0.2602</td>\n",
       "      <td>0.1686</td>\n",
       "    </tr>\n",
       "    <tr>\n",
       "      <th>2</th>\n",
       "      <td>0.2430</td>\n",
       "      <td>49.0201</td>\n",
       "      <td>0.0</td>\n",
       "      <td>0.2144</td>\n",
       "      <td>0.2599</td>\n",
       "      <td>0.1690</td>\n",
       "    </tr>\n",
       "    <tr>\n",
       "      <th>3</th>\n",
       "      <td>0.2201</td>\n",
       "      <td>55.1134</td>\n",
       "      <td>0.0</td>\n",
       "      <td>0.2144</td>\n",
       "      <td>0.2595</td>\n",
       "      <td>0.1693</td>\n",
       "    </tr>\n",
       "    <tr>\n",
       "      <th>4</th>\n",
       "      <td>0.1974</td>\n",
       "      <td>62.5393</td>\n",
       "      <td>0.0</td>\n",
       "      <td>0.2145</td>\n",
       "      <td>0.2589</td>\n",
       "      <td>0.1699</td>\n",
       "    </tr>\n",
       "    <tr>\n",
       "      <th>5</th>\n",
       "      <td>0.1750</td>\n",
       "      <td>71.7361</td>\n",
       "      <td>0.0</td>\n",
       "      <td>0.2144</td>\n",
       "      <td>0.2582</td>\n",
       "      <td>0.1707</td>\n",
       "    </tr>\n",
       "    <tr>\n",
       "      <th>6</th>\n",
       "      <td>0.1533</td>\n",
       "      <td>83.3162</td>\n",
       "      <td>0.0</td>\n",
       "      <td>0.2144</td>\n",
       "      <td>0.2571</td>\n",
       "      <td>0.1717</td>\n",
       "    </tr>\n",
       "    <tr>\n",
       "      <th>7</th>\n",
       "      <td>0.1324</td>\n",
       "      <td>98.1061</td>\n",
       "      <td>0.0</td>\n",
       "      <td>0.2144</td>\n",
       "      <td>0.2555</td>\n",
       "      <td>0.1734</td>\n",
       "    </tr>\n",
       "    <tr>\n",
       "      <th>8</th>\n",
       "      <td>0.1127</td>\n",
       "      <td>117.0875</td>\n",
       "      <td>0.0</td>\n",
       "      <td>0.2144</td>\n",
       "      <td>0.2529</td>\n",
       "      <td>0.1759</td>\n",
       "    </tr>\n",
       "    <tr>\n",
       "      <th>9</th>\n",
       "      <td>0.0952</td>\n",
       "      <td>140.8904</td>\n",
       "      <td>0.0</td>\n",
       "      <td>0.2145</td>\n",
       "      <td>0.2488</td>\n",
       "      <td>0.1800</td>\n",
       "    </tr>\n",
       "    <tr>\n",
       "      <th>10</th>\n",
       "      <td>0.0812</td>\n",
       "      <td>167.9212</td>\n",
       "      <td>0.0</td>\n",
       "      <td>0.2144</td>\n",
       "      <td>0.2420</td>\n",
       "      <td>0.1869</td>\n",
       "    </tr>\n",
       "    <tr>\n",
       "      <th>11</th>\n",
       "      <td>0.0726</td>\n",
       "      <td>190.5925</td>\n",
       "      <td>0.0</td>\n",
       "      <td>0.2144</td>\n",
       "      <td>0.2311</td>\n",
       "      <td>0.1977</td>\n",
       "    </tr>\n",
       "    <tr>\n",
       "      <th>12</th>\n",
       "      <td>0.0716</td>\n",
       "      <td>196.2714</td>\n",
       "      <td>0.0</td>\n",
       "      <td>0.2144</td>\n",
       "      <td>0.2164</td>\n",
       "      <td>0.2124</td>\n",
       "    </tr>\n",
       "    <tr>\n",
       "      <th>13</th>\n",
       "      <td>0.0784</td>\n",
       "      <td>181.9825</td>\n",
       "      <td>0.0</td>\n",
       "      <td>0.2144</td>\n",
       "      <td>0.2011</td>\n",
       "      <td>0.2278</td>\n",
       "    </tr>\n",
       "    <tr>\n",
       "      <th>14</th>\n",
       "      <td>0.0913</td>\n",
       "      <td>158.6529</td>\n",
       "      <td>0.0</td>\n",
       "      <td>0.2145</td>\n",
       "      <td>0.1891</td>\n",
       "      <td>0.2397</td>\n",
       "    </tr>\n",
       "    <tr>\n",
       "      <th>15</th>\n",
       "      <td>0.1081</td>\n",
       "      <td>135.9656</td>\n",
       "      <td>0.0</td>\n",
       "      <td>0.2144</td>\n",
       "      <td>0.1815</td>\n",
       "      <td>0.2474</td>\n",
       "    </tr>\n",
       "    <tr>\n",
       "      <th>16</th>\n",
       "      <td>0.1273</td>\n",
       "      <td>117.1510</td>\n",
       "      <td>0.0</td>\n",
       "      <td>0.2144</td>\n",
       "      <td>0.1767</td>\n",
       "      <td>0.2521</td>\n",
       "    </tr>\n",
       "    <tr>\n",
       "      <th>17</th>\n",
       "      <td>0.1480</td>\n",
       "      <td>102.2488</td>\n",
       "      <td>0.0</td>\n",
       "      <td>0.2144</td>\n",
       "      <td>0.1740</td>\n",
       "      <td>0.2549</td>\n",
       "    </tr>\n",
       "    <tr>\n",
       "      <th>18</th>\n",
       "      <td>0.1695</td>\n",
       "      <td>90.5001</td>\n",
       "      <td>0.0</td>\n",
       "      <td>0.2144</td>\n",
       "      <td>0.1720</td>\n",
       "      <td>0.2567</td>\n",
       "    </tr>\n",
       "    <tr>\n",
       "      <th>19</th>\n",
       "      <td>0.1917</td>\n",
       "      <td>81.1438</td>\n",
       "      <td>0.0</td>\n",
       "      <td>0.2145</td>\n",
       "      <td>0.1709</td>\n",
       "      <td>0.2580</td>\n",
       "    </tr>\n",
       "    <tr>\n",
       "      <th>20</th>\n",
       "      <td>0.2144</td>\n",
       "      <td>73.5832</td>\n",
       "      <td>0.0</td>\n",
       "      <td>0.2144</td>\n",
       "      <td>0.1701</td>\n",
       "      <td>0.2588</td>\n",
       "    </tr>\n",
       "  </tbody>\n",
       "</table>\n",
       "</div>"
      ],
      "text/plain": [
       "    std_error  t_statistic  P>|t|  derivative  ci_low_dydx  ci_high_dydx\n",
       "0      0.2896      39.6620    0.0      0.0000       0.0000        0.0000\n",
       "1      0.2662      43.9452    0.0      0.2144       0.2602        0.1686\n",
       "2      0.2430      49.0201    0.0      0.2144       0.2599        0.1690\n",
       "3      0.2201      55.1134    0.0      0.2144       0.2595        0.1693\n",
       "4      0.1974      62.5393    0.0      0.2145       0.2589        0.1699\n",
       "5      0.1750      71.7361    0.0      0.2144       0.2582        0.1707\n",
       "6      0.1533      83.3162    0.0      0.2144       0.2571        0.1717\n",
       "7      0.1324      98.1061    0.0      0.2144       0.2555        0.1734\n",
       "8      0.1127     117.0875    0.0      0.2144       0.2529        0.1759\n",
       "9      0.0952     140.8904    0.0      0.2145       0.2488        0.1800\n",
       "10     0.0812     167.9212    0.0      0.2144       0.2420        0.1869\n",
       "11     0.0726     190.5925    0.0      0.2144       0.2311        0.1977\n",
       "12     0.0716     196.2714    0.0      0.2144       0.2164        0.2124\n",
       "13     0.0784     181.9825    0.0      0.2144       0.2011        0.2278\n",
       "14     0.0913     158.6529    0.0      0.2145       0.1891        0.2397\n",
       "15     0.1081     135.9656    0.0      0.2144       0.1815        0.2474\n",
       "16     0.1273     117.1510    0.0      0.2144       0.1767        0.2521\n",
       "17     0.1480     102.2488    0.0      0.2144       0.1740        0.2549\n",
       "18     0.1695      90.5001    0.0      0.2144       0.1720        0.2567\n",
       "19     0.1917      81.1438    0.0      0.2145       0.1709        0.2580\n",
       "20     0.2144      73.5832    0.0      0.2144       0.1701        0.2588"
      ]
     },
     "execution_count": 41,
     "metadata": {},
     "output_type": "execute_result"
    }
   ],
   "source": [
    "derivative_predictions"
   ]
  },
  {
   "cell_type": "code",
   "execution_count": 52,
   "id": "4ad1532b",
   "metadata": {},
   "outputs": [
    {
     "data": {
      "image/png": "[encoded data removed]",
      "text/plain": [
       "<Figure size 640x480 with 1 Axes>"
      ]
     },
     "metadata": {},
     "output_type": "display_data"
    }
   ],
   "source": [
    "plt.plot(list(range(0, len(derivative_predictions['derivative'][1:]))), derivative_predictions['derivative'][1:], color=\"red\", label=\" \")\n",
    "plt.fill_between(list(range(0, len(derivative_predictions['derivative'][1:]))), derivative_predictions['ci_low_dydx'][1:], derivative_predictions['ci_high_dydx'][1:], color=\"red\", alpha=0.3)\n",
    "plt.show()"
   ]
  },
  {
   "cell_type": "code",
   "execution_count": null,
   "id": "79b8e761",
   "metadata": {},
   "outputs": [
    {
     "name": "stdout",
     "output_type": "stream",
     "text": [
      "Significance Analysis (p > |t|)\n",
      "1.96 > |-1.3451| == True\n",
      "\n",
      "Fail to reject the null hypothesis: 7.3256 is not statistically different from 7.8211 at 5.0% level\n",
      "\n",
      "Conclude that outcome of {'paeduc': '0.00', 'maeduc': '0.00', 'age': '0.00'}\n",
      "does not differ from {'paeduc': '1.00', 'maeduc': '1.00', 'age': '1.00'}\n"
     ]
    },
    {
     "data": {
      "text/html": [
       "<div>\n",
       "<style scoped>\n",
       "    .dataframe tbody tr th:only-of-type {\n",
       "        vertical-align: middle;\n",
       "    }\n",
       "\n",
       "    .dataframe tbody tr th {\n",
       "        vertical-align: top;\n",
       "    }\n",
       "\n",
       "    .dataframe thead th {\n",
       "        text-align: right;\n",
       "    }\n",
       "</style>\n",
       "<table border=\"1\" class=\"dataframe\">\n",
       "  <thead>\n",
       "    <tr style=\"text-align: right;\">\n",
       "      <th></th>\n",
       "      <th>0</th>\n",
       "    </tr>\n",
       "  </thead>\n",
       "  <tbody>\n",
       "    <tr>\n",
       "      <th>feature_labels</th>\n",
       "      <td>{'paeduc': '0.00', 'maeduc': '0.00', 'age': '0...</td>\n",
       "    </tr>\n",
       "    <tr>\n",
       "      <th>hypothesis_labels</th>\n",
       "      <td>{'paeduc': '1.00', 'maeduc': '1.00', 'age': '1...</td>\n",
       "    </tr>\n",
       "    <tr>\n",
       "      <th>prediction</th>\n",
       "      <td>7.325648</td>\n",
       "    </tr>\n",
       "    <tr>\n",
       "      <th>hypothesis</th>\n",
       "      <td>7.821124</td>\n",
       "    </tr>\n",
       "    <tr>\n",
       "      <th>t-statistic</th>\n",
       "      <td>-1.345073</td>\n",
       "    </tr>\n",
       "    <tr>\n",
       "      <th>P&gt;|t|</th>\n",
       "      <td>0.17882</td>\n",
       "    </tr>\n",
       "  </tbody>\n",
       "</table>\n",
       "</div>"
      ],
      "text/plain": [
       "                                                                   0\n",
       "feature_labels     {'paeduc': '0.00', 'maeduc': '0.00', 'age': '0...\n",
       "hypothesis_labels  {'paeduc': '1.00', 'maeduc': '1.00', 'age': '1...\n",
       "prediction                                                  7.325648\n",
       "hypothesis                                                  7.821124\n",
       "t-statistic                                                -1.345073\n",
       "P>|t|                                                        0.17882"
      ]
     },
     "execution_count": 64,
     "metadata": {},
     "output_type": "execute_result"
    }
   ],
   "source": [
    "'''Hypothesis testing two arrays'''\n",
    "\n",
    "results = model.hypothesis_testing(test=np.array([[0, 0, 0], ]), hyp=np.array([[1, 1, 1], ]))\n",
    "print(results['summary'])\n",
    "pd.DataFrame(results['table']).T"
   ]
  },
  {
   "cell_type": "code",
   "execution_count": null,
   "id": "9d8327fe",
   "metadata": {},
   "outputs": [
    {
     "name": "stdout",
     "output_type": "stream",
     "text": [
      "Significance Analysis (p > |t|)\n",
      "1.96 > |-0.0000| == True\n",
      "\n",
      "Fail to reject the null hypothesis: 7.3256 is not statistically different from 7.3256 at 5.0% level\n",
      "\n",
      "Conclude that outcome of {'paeduc': '0.00', 'maeduc': '0.00', 'age': '0.00'}\n",
      "does not differ from {'educ': '7.325648'}\n"
     ]
    },
    {
     "data": {
      "text/html": [
       "<div>\n",
       "<style scoped>\n",
       "    .dataframe tbody tr th:only-of-type {\n",
       "        vertical-align: middle;\n",
       "    }\n",
       "\n",
       "    .dataframe tbody tr th {\n",
       "        vertical-align: top;\n",
       "    }\n",
       "\n",
       "    .dataframe thead th {\n",
       "        text-align: right;\n",
       "    }\n",
       "</style>\n",
       "<table border=\"1\" class=\"dataframe\">\n",
       "  <thead>\n",
       "    <tr style=\"text-align: right;\">\n",
       "      <th></th>\n",
       "      <th>0</th>\n",
       "    </tr>\n",
       "  </thead>\n",
       "  <tbody>\n",
       "    <tr>\n",
       "      <th>feature_labels</th>\n",
       "      <td>{'paeduc': '0.00', 'maeduc': '0.00', 'age': '0...</td>\n",
       "    </tr>\n",
       "    <tr>\n",
       "      <th>hypothesis_labels</th>\n",
       "      <td>{'educ': '7.325648'}</td>\n",
       "    </tr>\n",
       "    <tr>\n",
       "      <th>prediction</th>\n",
       "      <td>7.325648</td>\n",
       "    </tr>\n",
       "    <tr>\n",
       "      <th>hypothesis</th>\n",
       "      <td>7.325648</td>\n",
       "    </tr>\n",
       "    <tr>\n",
       "      <th>t-statistic</th>\n",
       "      <td>-0.000001</td>\n",
       "    </tr>\n",
       "    <tr>\n",
       "      <th>P&gt;|t|</th>\n",
       "      <td>0.999999</td>\n",
       "    </tr>\n",
       "  </tbody>\n",
       "</table>\n",
       "</div>"
      ],
      "text/plain": [
       "                                                                   0\n",
       "feature_labels     {'paeduc': '0.00', 'maeduc': '0.00', 'age': '0...\n",
       "hypothesis_labels                               {'educ': '7.325648'}\n",
       "prediction                                                  7.325648\n",
       "hypothesis                                                  7.325648\n",
       "t-statistic                                                -0.000001\n",
       "P>|t|                                                       0.999999"
      ]
     },
     "execution_count": 65,
     "metadata": {},
     "output_type": "execute_result"
    }
   ],
   "source": [
    "'''Hypothesis testing array with fixed value'''\n",
    "\n",
    "results = model.hypothesis_testing(test=np.array([[0, 0, 0], ]), hyp=7.325648)\n",
    "print(results['summary'])\n",
    "pd.DataFrame(results['table']).T"
   ]
  },
  {
   "cell_type": "code",
   "execution_count": null,
   "id": "f46325fa",
   "metadata": {},
   "outputs": [
    {
     "name": "stdout",
     "output_type": "stream",
     "text": [
      "Significance Analysis (p > |t|)\n",
      "1.96 > |-6.7254| == False\n",
      "\n",
      "Reject the null hypothesis: 7.3256 is statistically different from 9.8030 at 5.0% level\n",
      "\n",
      "Conclude that the outcomes of {'paeduc': '0.00', 'maeduc': '0.00', 'age': '0.00'}\n",
      "differs significantly from {'paeduc': '5.00', 'maeduc': '5.00', 'age': '5.00'}\n"
     ]
    },
    {
     "data": {
      "text/html": [
       "<div>\n",
       "<style scoped>\n",
       "    .dataframe tbody tr th:only-of-type {\n",
       "        vertical-align: middle;\n",
       "    }\n",
       "\n",
       "    .dataframe tbody tr th {\n",
       "        vertical-align: top;\n",
       "    }\n",
       "\n",
       "    .dataframe thead th {\n",
       "        text-align: right;\n",
       "    }\n",
       "</style>\n",
       "<table border=\"1\" class=\"dataframe\">\n",
       "  <thead>\n",
       "    <tr style=\"text-align: right;\">\n",
       "      <th></th>\n",
       "      <th>0</th>\n",
       "    </tr>\n",
       "  </thead>\n",
       "  <tbody>\n",
       "    <tr>\n",
       "      <th>feature_labels</th>\n",
       "      <td>{'paeduc': '0.00', 'maeduc': '0.00', 'age': '0...</td>\n",
       "    </tr>\n",
       "    <tr>\n",
       "      <th>hypothesis_labels</th>\n",
       "      <td>{'paeduc': '5.00', 'maeduc': '5.00', 'age': '5...</td>\n",
       "    </tr>\n",
       "    <tr>\n",
       "      <th>prediction</th>\n",
       "      <td>7.325648</td>\n",
       "    </tr>\n",
       "    <tr>\n",
       "      <th>hypothesis</th>\n",
       "      <td>9.803031</td>\n",
       "    </tr>\n",
       "    <tr>\n",
       "      <th>t-statistic</th>\n",
       "      <td>-6.725365</td>\n",
       "    </tr>\n",
       "    <tr>\n",
       "      <th>P&gt;|t|</th>\n",
       "      <td>0.0</td>\n",
       "    </tr>\n",
       "  </tbody>\n",
       "</table>\n",
       "</div>"
      ],
      "text/plain": [
       "                                                                   0\n",
       "feature_labels     {'paeduc': '0.00', 'maeduc': '0.00', 'age': '0...\n",
       "hypothesis_labels  {'paeduc': '5.00', 'maeduc': '5.00', 'age': '5...\n",
       "prediction                                                  7.325648\n",
       "hypothesis                                                  9.803031\n",
       "t-statistic                                                -6.725365\n",
       "P>|t|                                                            0.0"
      ]
     },
     "execution_count": 66,
     "metadata": {},
     "output_type": "execute_result"
    }
   ],
   "source": [
    "'''Reject the null hypothesis'''\n",
    "\n",
    "results = model.hypothesis_testing(test=np.array([[0, 0, 0], ]), hyp=np.array([[5, 5, 5], ]))\n",
    "print(results['summary'])\n",
    "pd.DataFrame(results['table']).T"
   ]
  },
  {
   "cell_type": "markdown",
   "id": "ed842a5f",
   "metadata": {},
   "source": [
    "## Test Cases"
   ]
  },
  {
   "cell_type": "code",
   "execution_count": null,
   "id": "07a95036",
   "metadata": {},
   "outputs": [],
   "source": [
    "def simple_data():\n",
    "    np.random.seed(35)\n",
    "    X = np.column_stack([np.ones(100), np.random.randn(100, 2)])\n",
    "    y = X @ np.array([1, 2, 3]) + np.random.randn(100) * 0.1\n",
    "    return X, y\n",
    "\n",
    "def fitted_model(simple_data):\n",
    "    X, y = simple_data\n",
    "    return LinearRegressionOLS().fit(X, y)\n",
    "\n",
    "def perfect_fit_data():\n",
    "    \"\"\"Data with no noise for perfect fit\"\"\"\n",
    "    np.random.seed(123)\n",
    "    X = np.column_stack([np.ones(50), np.random.randn(50, 2)])\n",
    "    y = X @ np.array([5, -2, 3])\n",
    "    return X, y\n",
    "\n",
    "def dataframe_data():\n",
    "    \"\"\"Fixture providing pandas DataFrame/Series data\"\"\"\n",
    "    np.random.seed(35)\n",
    "    df = pd.DataFrame({\n",
    "        'const': np.ones(100),\n",
    "        'feature_A': np.random.randn(100),\n",
    "        'feature_B': np.random.randn(100)\n",
    "    })\n",
    "    y = pd.Series(\n",
    "        df.values @ np.array([1, 2, 3]) + np.random.randn(100) * 0.1,\n",
    "        name='target_variable'\n",
    "    )\n",
    "    return df, y"
   ]
  },
  {
   "cell_type": "markdown",
   "id": "54690f29",
   "metadata": {},
   "source": [
    "### Model Test"
   ]
  },
  {
   "cell_type": "code",
   "execution_count": null,
   "id": "d16821c9",
   "metadata": {},
   "outputs": [
    {
     "name": "stdout",
     "output_type": "stream",
     "text": [
      "Populated coefficients:           True, [0.99413776 1.99584237 2.99279632]\n",
      "R-squared valid:                  True, 0.9993370417147871\n",
      "Same # Coefficients as X columns: True, (3, 3)\n"
     ]
    }
   ],
   "source": [
    "\"\"\"Model is fitted correctly.\"\"\"\n",
    "X, y = simple_data()\n",
    "model = LinearRegressionOLS().fit(X, y)\n",
    "\n",
    "print(f\"Populated coefficients:           {model.theta is not None}, {model.theta}\")\n",
    "print(f\"R-squared valid:                  {model.r_squared > 0.9}, {model.r_squared}\")\n",
    "print(f\"Same # Coefficients as X columns: {len(model.theta) == X.shape[1]}, ({len(model.theta)}, {X.shape[1]})\")"
   ]
  },
  {
   "cell_type": "code",
   "execution_count": null,
   "id": "5ffba38f",
   "metadata": {},
   "outputs": [
    {
     "name": "stdout",
     "output_type": "stream",
     "text": [
      "100% of variance is explained by alpha: True, 1.0\n"
     ]
    }
   ],
   "source": [
    "\"\"\"Perfect fit model is correct\"\"\"\n",
    "X, y = perfect_fit_data()\n",
    "model = LinearRegressionOLS().fit(X, y)\n",
    "\n",
    "print(f\"100% of variance is explained by alpha: {model.r_squared == 1}, {model.r_squared}\")"
   ]
  },
  {
   "cell_type": "code",
   "execution_count": null,
   "id": "ea4101e7",
   "metadata": {},
   "outputs": [
    {
     "name": "stdout",
     "output_type": "stream",
     "text": [
      "Predictions return a list: True, (10,)\n"
     ]
    }
   ],
   "source": [
    "\"\"\"Test prediction returns correct shape\"\"\"\n",
    "# 10 samples, 2 features (no intercept)\n",
    "X_test = np.random.randn(10, 2)                    \n",
    "y_pred = fitted_model(simple_data()).predict(X_test)\n",
    "\n",
    "print(f\"Predictions return a list: {y_pred.shape == (10,)}, {y_pred.shape}\" )"
   ]
  },
  {
   "cell_type": "code",
   "execution_count": null,
   "id": "1b4f5313",
   "metadata": {},
   "outputs": [
    {
     "name": "stdout",
     "output_type": "stream",
     "text": [
      "Prediction returns a single value: True, [0.49566078]\n"
     ]
    }
   ],
   "source": [
    "\"\"\"Test prediction on single sample\"\"\"\n",
    "X_test = np.array([[0.5, -0.5]])\n",
    "y_pred = fitted_model(simple_data()).predict(X_test)\n",
    "\n",
    "print(f\"Prediction returns a single value: {isinstance(y_pred, (float, np.ndarray))}, {y_pred}\")"
   ]
  },
  {
   "cell_type": "code",
   "execution_count": null,
   "id": "a8bf47a3",
   "metadata": {},
   "outputs": [
    {
     "name": "stdout",
     "output_type": "stream",
     "text": [
      "Recovering known coefficients: [ True  True  True]\n"
     ]
    }
   ],
   "source": [
    "\"\"\"Test that we can recover known coefficients exactly\"\"\"\n",
    "X, y = perfect_fit_data()\n",
    "model = LinearRegressionOLS().fit(X, y)\n",
    "\n",
    "print(f\"Recovering known coefficients: {np.round(model.theta,4) == [5, -2, 3]}\")"
   ]
  },
  {
   "cell_type": "markdown",
   "id": "54a7f33e",
   "metadata": {},
   "source": [
    "### Dimensionality Test"
   ]
  },
  {
   "cell_type": "code",
   "execution_count": null,
   "id": "c6557276",
   "metadata": {},
   "outputs": [
    {
     "name": "stdout",
     "output_type": "stream",
     "text": [
      "X and y must have same number of observations. Got X: 100, y: 50 instead.\n"
     ]
    }
   ],
   "source": [
    "\"\"\"Test dimension mismatch raises error\"\"\"\n",
    "X = np.random.randn(100, 3)\n",
    "y = np.random.randn(50)\n",
    "try:\n",
    "    LinearRegressionOLS().fit(X, y)\n",
    "except ValueError as error:\n",
    "    print(error)"
   ]
  },
  {
   "cell_type": "code",
   "execution_count": null,
   "id": "52304e98",
   "metadata": {},
   "outputs": [
    {
     "name": "stdout",
     "output_type": "stream",
     "text": [
      "X contains NaN or infinite values.\n",
      "X[0] = [        nan -1.26254374 -1.40298909]\n"
     ]
    }
   ],
   "source": [
    "\"\"\"Test that NaN in X raises error\"\"\"\n",
    "X, y = np.random.randn(100, 3), np.random.randn(100)\n",
    "X[0, 0] = np.nan\n",
    "try:\n",
    "    LinearRegressionOLS().fit(X, y)\n",
    "except ValueError as error:\n",
    "    print(f\"{error}\\nX[0] = {X[0]}\")"
   ]
  },
  {
   "cell_type": "code",
   "execution_count": null,
   "id": "ad90021c",
   "metadata": {},
   "outputs": [
    {
     "name": "stdout",
     "output_type": "stream",
     "text": [
      "y contains NaN or infinite values.\n",
      "y[0] = nan\n"
     ]
    }
   ],
   "source": [
    "\"\"\"Test that NaN in y raises error\"\"\"\n",
    "X, y = np.random.randn(100, 3), np.random.randn(100)\n",
    "y[0] = np.nan\n",
    "try:\n",
    "    LinearRegressionOLS().fit(X, y)\n",
    "except ValueError as error:\n",
    "    print(f\"{error}\\ny[0] = {y[0]}\")"
   ]
  },
  {
   "cell_type": "code",
   "execution_count": null,
   "id": "3ba16ce8",
   "metadata": {},
   "outputs": [
    {
     "name": "stdout",
     "output_type": "stream",
     "text": [
      "X contains NaN or infinite values.\n",
      "X[0] = [        inf -0.21264967  0.17293329]\n"
     ]
    }
   ],
   "source": [
    "\"\"\"Test that Inf in X raises error\"\"\"\n",
    "X, y = np.random.randn(100, 3), np.random.randn(100)\n",
    "X[0, 0] = np.inf\n",
    "try:\n",
    "    LinearRegressionOLS().fit(X, y)\n",
    "except ValueError as error:\n",
    "    print(f\"{error}\\nX[0] = {X[0]}\")"
   ]
  },
  {
   "cell_type": "code",
   "execution_count": null,
   "id": "0d82f268",
   "metadata": {},
   "outputs": [
    {
     "name": "stdout",
     "output_type": "stream",
     "text": [
      "X and y cannot be empty\n"
     ]
    }
   ],
   "source": [
    "\"\"\"Test that empty X raises error\"\"\"\n",
    "X = np.array([]).reshape(0, 3)\n",
    "y = np.array([])\n",
    "try:\n",
    "    LinearRegressionOLS().fit(X, y)\n",
    "except ValueError as error:\n",
    "    print(error)"
   ]
  },
  {
   "cell_type": "code",
   "execution_count": null,
   "id": "515465ec",
   "metadata": {},
   "outputs": [
    {
     "name": "stdout",
     "output_type": "stream",
     "text": [
      "X must be 2D, got shape (100,) instead.\n"
     ]
    }
   ],
   "source": [
    "\"\"\"Test that 1D X raises error\"\"\"\n",
    "X = np.random.randn(100)\n",
    "y = np.random.randn(100)\n",
    "try:\n",
    "    LinearRegressionOLS().fit(X, y)\n",
    "except ValueError as error:\n",
    "    print(error)"
   ]
  },
  {
   "cell_type": "code",
   "execution_count": null,
   "id": "b96036c0",
   "metadata": {},
   "outputs": [
    {
     "name": "stdout",
     "output_type": "stream",
     "text": [
      "Y transformed to 1D: True, (100, 1) -> (100,)\n"
     ]
    }
   ],
   "source": [
    "\"\"\"Test that 2D column vector y gets flattened to list\"\"\"\n",
    "X = np.random.randn(100, 3)\n",
    "y = np.random.randn(100, 1)\n",
    "model = LinearRegressionOLS().fit(X, y)\n",
    "\n",
    "print(f\"Y transformed to 1D: {model.y.ndim == 1}, {y.shape} -> {model.y.shape}\")"
   ]
  },
  {
   "cell_type": "code",
   "execution_count": null,
   "id": "a0b09fd0",
   "metadata": {},
   "outputs": [
    {
     "name": "stdout",
     "output_type": "stream",
     "text": [
      "Insufficient observations. Need n > k, got n=5, k=6 instead.\n"
     ]
    }
   ],
   "source": [
    "\"\"\"Test that n <= k raises error\"\"\"\n",
    "X = np.random.randn(5, 6)  # 5 observations, 6 features\n",
    "y = np.random.randn(5)\n",
    "try:\n",
    "    LinearRegressionOLS().fit(X, y)\n",
    "except ValueError as error:\n",
    "    print(error)"
   ]
  },
  {
   "cell_type": "code",
   "execution_count": null,
   "id": "c326281e",
   "metadata": {},
   "outputs": [
    {
     "name": "stdout",
     "output_type": "stream",
     "text": [
      "Alpha must be between 0 and 1, got 1.5 instead.\n"
     ]
    }
   ],
   "source": [
    "\"\"\"Test that invalid alpha raises error\"\"\"\n",
    "X = np.random.randn(100, 3)\n",
    "y = np.random.randn(100)\n",
    "try:\n",
    "    LinearRegressionOLS().fit(X, y, alpha=1.5)\n",
    "except ValueError as error:\n",
    "    print(error)"
   ]
  },
  {
   "cell_type": "code",
   "execution_count": null,
   "id": "1cdf51ad",
   "metadata": {},
   "outputs": [
    {
     "name": "stdout",
     "output_type": "stream",
     "text": [
      "Model is not fitted. Call 'fit' with arguments before using this method.\n"
     ]
    }
   ],
   "source": [
    "\"\"\"Test that predict raises error if model not fitted\"\"\"\n",
    "model = LinearRegressionOLS()\n",
    "X_test = np.random.randn(10, 3)\n",
    "try:\n",
    "    model.predict(X_test)\n",
    "except ValueError as error:\n",
    "    print(error)"
   ]
  },
  {
   "cell_type": "markdown",
   "id": "57a5ef13",
   "metadata": {},
   "source": [
    "### Multicollinearity Test"
   ]
  },
  {
   "cell_type": "code",
   "execution_count": null,
   "id": "ab8a6c91",
   "metadata": {},
   "outputs": [
    {
     "name": "stdout",
     "output_type": "stream",
     "text": [
      "Matrix X'X is not positive definite. This typically indicates:\n",
      "- Perfect multicollinearity between features\n",
      "- Insufficient observations (n < k)\n",
      "- Constant or duplicate columns in X\n"
     ]
    }
   ],
   "source": [
    "\"\"\"Test that perfect multicollinearity raises error\"\"\"\n",
    "X = np.column_stack([\n",
    "    np.ones(50),\n",
    "    np.arange(50),\n",
    "    2 * np.arange(50)  # Perfect collinearity with column 1\n",
    "])\n",
    "y = np.random.randn(50)\n",
    "try:\n",
    "    LinearRegressionOLS().fit(X, y)\n",
    "except ValueError as error:\n",
    "    print(error)"
   ]
  },
  {
   "cell_type": "code",
   "execution_count": null,
   "id": "130cd54f",
   "metadata": {},
   "outputs": [
    {
     "name": "stdout",
     "output_type": "stream",
     "text": [
      "Matrix X'X is not positive definite. This typically indicates:\n",
      "- Perfect multicollinearity between features\n",
      "- Insufficient observations (n < k)\n",
      "- Constant or duplicate columns in X\n"
     ]
    }
   ],
   "source": [
    "\"\"\"Test that duplicate columns raise error\"\"\"\n",
    "X = np.column_stack([\n",
    "    np.ones(50),\n",
    "    np.random.randn(50),\n",
    "    np.random.randn(50)\n",
    "])\n",
    "X[:, 2] = X[:, 1]  # Make column 2 identical to column 1\n",
    "y = np.random.randn(50)\n",
    "try:\n",
    "    LinearRegressionOLS().fit(X, y)\n",
    "except ValueError as error:\n",
    "    print(error)"
   ]
  },
  {
   "cell_type": "code",
   "execution_count": null,
   "id": "b979d232",
   "metadata": {},
   "outputs": [
    {
     "name": "stdout",
     "output_type": "stream",
     "text": [
      "Matrix X'X is not positive definite. This typically indicates:\n",
      "- Perfect multicollinearity between features\n",
      "- Insufficient observations (n < k)\n",
      "- Constant or duplicate columns in X\n"
     ]
    }
   ],
   "source": [
    "\"\"\"Test that constant non-intercept column causes issues\"\"\"\n",
    "X = np.column_stack([\n",
    "    np.ones(50),\n",
    "    np.ones(50),  # Another constant column\n",
    "    np.random.randn(50)\n",
    "])\n",
    "y = np.random.randn(50)\n",
    "try:\n",
    "    LinearRegressionOLS().fit(X, y)\n",
    "except ValueError as error:\n",
    "    print(error)"
   ]
  },
  {
   "cell_type": "code",
   "execution_count": null,
   "id": "09b217f5",
   "metadata": {},
   "outputs": [
    {
     "name": "stdout",
     "output_type": "stream",
     "text": [
      "True 42017828394.54631\n",
      "True [-6.12545902e-02  4.07485362e+03 -4.07486072e+03]\n",
      "True [9.82041850e-02 9.31031715e+03 9.31030290e+03] \n",
      "\n",
      "     feature  VIF\n",
      "0  Feature 1  inf\n",
      "1  Feature 2  inf \n",
      "\n"
     ]
    },
    {
     "name": "stderr",
     "output_type": "stream",
     "text": [
      "/tmp/ipykernel_49246/3496828753.py:15: UserWarning: X'X matrix is ill-conditioned (cond=4.20e+10).\n",
      "Results may be unreliable. Consider:\n",
      "- Removing collinear features\n",
      "- Scaling features\n",
      "- Using regularization\n",
      "\n",
      "  model = LinearRegressionOLS().fit(X, y)\n"
     ]
    }
   ],
   "source": [
    "\"\"\"Test that near-collinear features produce ill condition matrix\"\"\"\n",
    "np.random.seed(35)\n",
    "target_cond = 1e10\n",
    "noise_level = 1 / np.sqrt(target_cond) \n",
    "x1 = np.random.randn(100)\n",
    "x2 = x1 + np.random.randn(100) * noise_level\n",
    "X = np.column_stack([np.ones(100), x1, x2])\n",
    "y = np.random.randn(100)\n",
    "\n",
    "xtx = X.T @ X\n",
    "cond_number = np.linalg.cond(xtx)\n",
    "print(cond_number > 1e10, cond_number)\n",
    "\n",
    "try:\n",
    "    model = LinearRegressionOLS().fit(X, y)\n",
    "    print(np.all(np.isfinite(model.theta)), model.theta)\n",
    "    print(np.any(model.std_error_coefficient > 100), model.std_error_coefficient, \"\\n\")\n",
    "    print(pd.DataFrame(model.variance_inflation_factor()), \"\\n\")\n",
    "except ValueError as error:\n",
    "    print(error)"
   ]
  },
  {
   "cell_type": "markdown",
   "id": "4fb734ff",
   "metadata": {},
   "source": [
    "### Statistics Testing"
   ]
  },
  {
   "cell_type": "code",
   "execution_count": null,
   "id": "e3016dd2",
   "metadata": {},
   "outputs": [
    {
     "data": {
      "text/plain": [
       "np.True_"
      ]
     },
     "execution_count": 87,
     "metadata": {},
     "output_type": "execute_result"
    }
   ],
   "source": [
    "\"\"\"Test that residuals sum to approximately zero\"\"\"\n",
    "np.isclose(np.sum(fitted_model(simple_data()).residuals), 0, atol=1e-10)"
   ]
  },
  {
   "cell_type": "code",
   "execution_count": null,
   "id": "e517d4d8",
   "metadata": {},
   "outputs": [
    {
     "data": {
      "text/plain": [
       "np.True_"
      ]
     },
     "execution_count": 88,
     "metadata": {},
     "output_type": "execute_result"
    }
   ],
   "source": [
    "\"\"\"Test that RSS + ESS = TSS\"\"\"\n",
    "np.isclose(\n",
    "    fitted_model(simple_data()).rss + fitted_model(simple_data()).ess,\n",
    "    fitted_model(simple_data()).tss,\n",
    "    rtol=1e-10\n",
    ")"
   ]
  },
  {
   "cell_type": "code",
   "execution_count": null,
   "id": "e90310c6",
   "metadata": {},
   "outputs": [
    {
     "data": {
      "text/plain": [
       "np.True_"
      ]
     },
     "execution_count": 89,
     "metadata": {},
     "output_type": "execute_result"
    }
   ],
   "source": [
    "\"\"\"Test that r-squared is between 0 and 1\"\"\"\n",
    "0 <= fitted_model(simple_data()).r_squared <= 1"
   ]
  },
  {
   "cell_type": "code",
   "execution_count": null,
   "id": "8b11b8d3",
   "metadata": {},
   "outputs": [
    {
     "data": {
      "text/plain": [
       "np.True_"
      ]
     },
     "execution_count": 90,
     "metadata": {},
     "output_type": "execute_result"
    }
   ],
   "source": [
    "\"\"\"Test that adjusted r-squared <= r-squared\"\"\"\n",
    "fitted_model(simple_data()).r_squared_adjusted <= fitted_model(simple_data()).r_squared"
   ]
  },
  {
   "cell_type": "code",
   "execution_count": null,
   "id": "0ea4df86",
   "metadata": {},
   "outputs": [
    {
     "data": {
      "text/plain": [
       "np.True_"
      ]
     },
     "execution_count": 91,
     "metadata": {},
     "output_type": "execute_result"
    }
   ],
   "source": [
    "\"\"\"Test that MSE is positive\"\"\"\n",
    "fitted_model(simple_data()).mse > 0"
   ]
  },
  {
   "cell_type": "code",
   "execution_count": null,
   "id": "3e85ff2f",
   "metadata": {},
   "outputs": [
    {
     "data": {
      "text/plain": [
       "np.True_"
      ]
     },
     "execution_count": 92,
     "metadata": {},
     "output_type": "execute_result"
    }
   ],
   "source": [
    "\"\"\"Test that RMSE = sqrt(MSE)\"\"\"\n",
    "np.isclose(fitted_model(simple_data()).rmse, np.sqrt(fitted_model(simple_data()).mse))"
   ]
  },
  {
   "cell_type": "code",
   "execution_count": null,
   "id": "8001d6c6",
   "metadata": {},
   "outputs": [
    {
     "data": {
      "text/plain": [
       "True"
      ]
     },
     "execution_count": 93,
     "metadata": {},
     "output_type": "execute_result"
    }
   ],
   "source": [
    "\"\"\"Test degrees of freedom calculation\"\"\"\n",
    "n, k = fitted_model(simple_data()).X.shape\n",
    "fitted_model(simple_data()).degrees_freedom == n - k"
   ]
  },
  {
   "cell_type": "code",
   "execution_count": null,
   "id": "cc938e8a",
   "metadata": {},
   "outputs": [
    {
     "data": {
      "text/plain": [
       "np.True_"
      ]
     },
     "execution_count": 94,
     "metadata": {},
     "output_type": "execute_result"
    }
   ],
   "source": [
    "\"\"\"Test that F-statistic is positive\"\"\"\n",
    "fitted_model(simple_data()).f_statistic > 0"
   ]
  },
  {
   "cell_type": "code",
   "execution_count": null,
   "id": "37c58439",
   "metadata": {},
   "outputs": [
    {
     "name": "stdout",
     "output_type": "stream",
     "text": [
      "True\n"
     ]
    }
   ],
   "source": [
    "\"\"\"Test that BIC >= AIC for typical sample sizes\"\"\"\n",
    "if fitted_model(simple_data()).X.shape[0] > 8:  # When n > e^2\n",
    "    print(fitted_model(simple_data()).bic > fitted_model(simple_data()).aic)"
   ]
  },
  {
   "cell_type": "markdown",
   "id": "c55c5963",
   "metadata": {},
   "source": [
    "### Inference Test"
   ]
  },
  {
   "cell_type": "code",
   "execution_count": null,
   "id": "fb554e56",
   "metadata": {},
   "outputs": [
    {
     "name": "stdout",
     "output_type": "stream",
     "text": [
      "4.999999999999999\n",
      "5.000000000000001\n",
      "True\n",
      "-2.0\n",
      "-1.9999999999999991\n",
      "True\n",
      "2.999999999999998\n",
      "2.9999999999999987\n",
      "False\n"
     ]
    }
   ],
   "source": [
    "\"\"\"Test that confidence intervals contain true parameter values\"\"\"\n",
    "X, y = perfect_fit_data()\n",
    "model = LinearRegressionOLS().fit(X, y, alpha=0.05)\n",
    "true_params = np.array([5, -2, 3])\n",
    "\n",
    "# Floating point error.\n",
    "for i, true_val in enumerate(true_params):\n",
    "    print(model.ci_low[i])\n",
    "    print(model.ci_high[i])\n",
    "    print(model.ci_low[i] <= true_val <= model.ci_high[i])"
   ]
  },
  {
   "cell_type": "code",
   "execution_count": null,
   "id": "08718b56",
   "metadata": {},
   "outputs": [
    {
     "data": {
      "text/plain": [
       "np.True_"
      ]
     },
     "execution_count": 97,
     "metadata": {},
     "output_type": "execute_result"
    }
   ],
   "source": [
    "\"\"\"Test that narrower alpha gives narrower CIs\"\"\"\n",
    "X, y = simple_data()\n",
    "model_95 = LinearRegressionOLS().fit(X, y, alpha=0.05)\n",
    "model_99 = LinearRegressionOLS().fit(X, y, alpha=0.01)\n",
    "width_95 = model_95.ci_high - model_95.ci_low\n",
    "width_99 = model_99.ci_high - model_99.ci_low\n",
    "\n",
    "np.all(width_99 > width_95)"
   ]
  },
  {
   "cell_type": "code",
   "execution_count": null,
   "id": "100be614",
   "metadata": {},
   "outputs": [
    {
     "data": {
      "text/plain": [
       "array([ True,  True,  True])"
      ]
     },
     "execution_count": 98,
     "metadata": {},
     "output_type": "execute_result"
    }
   ],
   "source": [
    "\"\"\"Test t-statistic calculation\"\"\"\n",
    "expected_t = fitted_model(simple_data()).theta / fitted_model(simple_data()).std_error_coefficient\n",
    "fitted_model(simple_data()).t_stat_coefficient == expected_t"
   ]
  },
  {
   "cell_type": "code",
   "execution_count": null,
   "id": "45a38985",
   "metadata": {},
   "outputs": [
    {
     "name": "stdout",
     "output_type": "stream",
     "text": [
      "True\n",
      "True\n"
     ]
    }
   ],
   "source": [
    "\"\"\"Test that p-values are between 0 and 1\"\"\"\n",
    "print(np.all(fitted_model(simple_data()).p_value_coefficient >= 0))\n",
    "print(np.all(fitted_model(simple_data()).p_value_coefficient <= 1))"
   ]
  },
  {
   "cell_type": "code",
   "execution_count": null,
   "id": "91e61be2",
   "metadata": {},
   "outputs": [
    {
     "data": {
      "text/plain": [
       "np.True_"
      ]
     },
     "execution_count": 100,
     "metadata": {},
     "output_type": "execute_result"
    }
   ],
   "source": [
    "\"\"\"Test that significant coefficients have low p-values\"\"\"\n",
    "X, y = perfect_fit_data()\n",
    "model = LinearRegressionOLS().fit(X, y)\n",
    "np.all(model.p_value_coefficient < 0.001)"
   ]
  },
  {
   "cell_type": "markdown",
   "id": "0f8943c1",
   "metadata": {},
   "source": [
    "### Edge Case Testing"
   ]
  },
  {
   "cell_type": "code",
   "execution_count": null,
   "id": "eb95b6f7",
   "metadata": {},
   "outputs": [
    {
     "data": {
      "text/plain": [
       "np.True_"
      ]
     },
     "execution_count": 101,
     "metadata": {},
     "output_type": "execute_result"
    }
   ],
   "source": [
    "\"\"\"Test regression with single feature (intercept only)\"\"\"\n",
    "np.random.seed(35)\n",
    "X = np.ones((100, 1))\n",
    "y = np.random.randn(100) + 5\n",
    "model = LinearRegressionOLS().fit(X, y)\n",
    "np.isclose(model.theta[0], np.mean(y), atol=0.1)"
   ]
  },
  {
   "cell_type": "code",
   "execution_count": null,
   "id": "05908ed1",
   "metadata": {},
   "outputs": [
    {
     "name": "stdout",
     "output_type": "stream",
     "text": [
      "True\n",
      "True\n"
     ]
    }
   ],
   "source": [
    "\"\"\"Test with minimum number of observations (n = k + 1)\"\"\"\n",
    "X = np.column_stack([np.ones(4), np.random.randn(4, 2)])\n",
    "y = np.random.randn(4)\n",
    "model = LinearRegressionOLS().fit(X, y)\n",
    "print(model.theta is not None)\n",
    "print(model.degrees_freedom == 1)"
   ]
  },
  {
   "cell_type": "code",
   "execution_count": null,
   "id": "7f91a1a6",
   "metadata": {},
   "outputs": [
    {
     "name": "stdout",
     "output_type": "stream",
     "text": [
      "True\n",
      "True\n"
     ]
    }
   ],
   "source": [
    "\"\"\"Test with very large coefficient values\"\"\"\n",
    "np.random.seed(35)\n",
    "X = np.column_stack([np.ones(100), np.random.randn(100, 2)])\n",
    "y = X @ np.array([1e6, 1e6, 1e6]) + np.random.randn(100)\n",
    "model = LinearRegressionOLS().fit(X, y)\n",
    "print(model.theta is not None)\n",
    "print(np.all(np.isfinite(model.theta)))"
   ]
  },
  {
   "cell_type": "code",
   "execution_count": null,
   "id": "48324131",
   "metadata": {},
   "outputs": [
    {
     "name": "stdout",
     "output_type": "stream",
     "text": [
      "True\n",
      "True\n"
     ]
    }
   ],
   "source": [
    "\"\"\"Test with very small coefficient values\"\"\"\n",
    "np.random.seed(35)\n",
    "X = np.column_stack([np.ones(100), np.random.randn(100, 2)])\n",
    "y = X @ np.array([1e-6, 1e-6, 1e-6]) + np.random.randn(100) * 1e-6\n",
    "model = LinearRegressionOLS().fit(X, y)\n",
    "print(model.theta is not None)\n",
    "print(np.all(np.isfinite(model.theta)))"
   ]
  }
 ],
 "metadata": {
  "kernelspec": {
   "display_name": ".venv",
   "language": "python",
   "name": "python3"
  },
  "language_info": {
   "codemirror_mode": {
    "name": "ipython",
    "version": 3
   },
   "file_extension": ".py",
   "mimetype": "text/x-python",
   "name": "python",
   "nbconvert_exporter": "python",
   "pygments_lexer": "ipython3",
   "version": "3.13.9"
  }
 },
 "nbformat": 4,
 "nbformat_minor": 5
}
